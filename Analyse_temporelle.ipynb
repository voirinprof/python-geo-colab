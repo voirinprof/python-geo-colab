{
  "nbformat": 4,
  "nbformat_minor": 0,
  "metadata": {
    "colab": {
      "provenance": [],
      "authorship_tag": "ABX9TyNV8S/Mju3M2kXMaoui29V1",
      "include_colab_link": true
    },
    "kernelspec": {
      "name": "python3",
      "display_name": "Python 3"
    },
    "language_info": {
      "name": "python"
    }
  },
  "cells": [
    {
      "cell_type": "markdown",
      "metadata": {
        "id": "view-in-github",
        "colab_type": "text"
      },
      "source": [
        "<a href=\"https://colab.research.google.com/github/voirinprof/python-geo-colab/blob/main/Analyse_temporelle.ipynb\" target=\"_parent\"><img src=\"https://colab.research.google.com/assets/colab-badge.svg\" alt=\"Open In Colab\"/></a>"
      ]
    },
    {
      "cell_type": "markdown",
      "source": [
        "# Tutoriel : Analyse temporelle d'un indicateur avec Google Earth Engine et Google Colab\n",
        "\n",
        "### Objectif\n",
        "\n",
        "1. Configurer notre environnement.\n",
        "2. Charger une collection d'images satellites avec GEE (période d'analyse).\n",
        "3. Calculer un indice de végétation (NDVI) pour chaque année.\n",
        "4. Visualiser les résultats.\n",
        "\n",
        "\n",
        "Prérequis : Un compte Google (pour Colab, GEE et Google Drive)."
      ],
      "metadata": {
        "id": "MfS7Ez-88f91"
      }
    },
    {
      "cell_type": "markdown",
      "source": [
        "## Installer GEE dans Colab"
      ],
      "metadata": {
        "id": "sCyWWBn_84x0"
      }
    },
    {
      "cell_type": "code",
      "execution_count": 1,
      "metadata": {
        "colab": {
          "base_uri": "https://localhost:8080/"
        },
        "id": "L1jp1zGn8amX",
        "outputId": "6dab22a1-b42c-4c73-8530-7e213d47b8c0"
      },
      "outputs": [
        {
          "output_type": "stream",
          "name": "stdout",
          "text": [
            "Requirement already satisfied: earthengine-api in /usr/local/lib/python3.11/dist-packages (1.5.7)\n",
            "Requirement already satisfied: google-cloud-storage in /usr/local/lib/python3.11/dist-packages (from earthengine-api) (2.19.0)\n",
            "Requirement already satisfied: google-api-python-client>=1.12.1 in /usr/local/lib/python3.11/dist-packages (from earthengine-api) (2.164.0)\n",
            "Requirement already satisfied: google-auth>=1.4.1 in /usr/local/lib/python3.11/dist-packages (from earthengine-api) (2.38.0)\n",
            "Requirement already satisfied: google-auth-httplib2>=0.0.3 in /usr/local/lib/python3.11/dist-packages (from earthengine-api) (0.2.0)\n",
            "Requirement already satisfied: httplib2<1dev,>=0.9.2 in /usr/local/lib/python3.11/dist-packages (from earthengine-api) (0.22.0)\n",
            "Requirement already satisfied: requests in /usr/local/lib/python3.11/dist-packages (from earthengine-api) (2.32.3)\n",
            "Requirement already satisfied: google-api-core!=2.0.*,!=2.1.*,!=2.2.*,!=2.3.0,<3.0.0.dev0,>=1.31.5 in /usr/local/lib/python3.11/dist-packages (from google-api-python-client>=1.12.1->earthengine-api) (2.24.2)\n",
            "Requirement already satisfied: uritemplate<5,>=3.0.1 in /usr/local/lib/python3.11/dist-packages (from google-api-python-client>=1.12.1->earthengine-api) (4.1.1)\n",
            "Requirement already satisfied: cachetools<6.0,>=2.0.0 in /usr/local/lib/python3.11/dist-packages (from google-auth>=1.4.1->earthengine-api) (5.5.2)\n",
            "Requirement already satisfied: pyasn1-modules>=0.2.1 in /usr/local/lib/python3.11/dist-packages (from google-auth>=1.4.1->earthengine-api) (0.4.1)\n",
            "Requirement already satisfied: rsa<5,>=3.1.4 in /usr/local/lib/python3.11/dist-packages (from google-auth>=1.4.1->earthengine-api) (4.9)\n",
            "Requirement already satisfied: pyparsing!=3.0.0,!=3.0.1,!=3.0.2,!=3.0.3,<4,>=2.4.2 in /usr/local/lib/python3.11/dist-packages (from httplib2<1dev,>=0.9.2->earthengine-api) (3.2.1)\n",
            "Requirement already satisfied: google-cloud-core<3.0dev,>=2.3.0 in /usr/local/lib/python3.11/dist-packages (from google-cloud-storage->earthengine-api) (2.4.3)\n",
            "Requirement already satisfied: google-resumable-media>=2.7.2 in /usr/local/lib/python3.11/dist-packages (from google-cloud-storage->earthengine-api) (2.7.2)\n",
            "Requirement already satisfied: google-crc32c<2.0dev,>=1.0 in /usr/local/lib/python3.11/dist-packages (from google-cloud-storage->earthengine-api) (1.7.0)\n",
            "Requirement already satisfied: charset-normalizer<4,>=2 in /usr/local/lib/python3.11/dist-packages (from requests->earthengine-api) (3.4.1)\n",
            "Requirement already satisfied: idna<4,>=2.5 in /usr/local/lib/python3.11/dist-packages (from requests->earthengine-api) (3.10)\n",
            "Requirement already satisfied: urllib3<3,>=1.21.1 in /usr/local/lib/python3.11/dist-packages (from requests->earthengine-api) (2.3.0)\n",
            "Requirement already satisfied: certifi>=2017.4.17 in /usr/local/lib/python3.11/dist-packages (from requests->earthengine-api) (2025.1.31)\n",
            "Requirement already satisfied: googleapis-common-protos<2.0.0,>=1.56.2 in /usr/local/lib/python3.11/dist-packages (from google-api-core!=2.0.*,!=2.1.*,!=2.2.*,!=2.3.0,<3.0.0.dev0,>=1.31.5->google-api-python-client>=1.12.1->earthengine-api) (1.69.2)\n",
            "Requirement already satisfied: protobuf!=3.20.0,!=3.20.1,!=4.21.0,!=4.21.1,!=4.21.2,!=4.21.3,!=4.21.4,!=4.21.5,<7.0.0,>=3.19.5 in /usr/local/lib/python3.11/dist-packages (from google-api-core!=2.0.*,!=2.1.*,!=2.2.*,!=2.3.0,<3.0.0.dev0,>=1.31.5->google-api-python-client>=1.12.1->earthengine-api) (5.29.4)\n",
            "Requirement already satisfied: proto-plus<2.0.0,>=1.22.3 in /usr/local/lib/python3.11/dist-packages (from google-api-core!=2.0.*,!=2.1.*,!=2.2.*,!=2.3.0,<3.0.0.dev0,>=1.31.5->google-api-python-client>=1.12.1->earthengine-api) (1.26.1)\n",
            "Requirement already satisfied: pyasn1<0.7.0,>=0.4.6 in /usr/local/lib/python3.11/dist-packages (from pyasn1-modules>=0.2.1->google-auth>=1.4.1->earthengine-api) (0.6.1)\n"
          ]
        }
      ],
      "source": [
        "# Installer et configurer GEE\n",
        "!pip install earthengine-api  # Installe l'API GEE"
      ]
    },
    {
      "cell_type": "markdown",
      "source": [
        "## Importer les libs utiles"
      ],
      "metadata": {
        "id": "xItqmtFD9A6K"
      }
    },
    {
      "cell_type": "code",
      "source": [
        "import ee  # Importe la bibliothèque GEE\n",
        "import geemap\n",
        "import matplotlib.pyplot as plt\n",
        "import pandas as pd\n",
        "\n",
        "# Authentification (exécutez cette cellule et suivez les instructions)\n",
        "ee.Authenticate()  # Ouvre une fenêtre pour se connecter à votre compte Google\n",
        "ee.Initialize(project=\"gmq580\")  # Initialise GEE avec vos identifiants\n",
        "\n",
        "# il peut être nécessaire de créer un projet dans Google Cloud Console\n",
        "\n",
        "print(\"GEE est prêt à être utilisé !\")"
      ],
      "metadata": {
        "colab": {
          "base_uri": "https://localhost:8080/",
          "height": 35
        },
        "id": "QhMk9-fM9B3q",
        "outputId": "ad7be7a5-dd96-4161-b0c0-c63c391992aa"
      },
      "execution_count": 2,
      "outputs": [
        {
          "output_type": "stream",
          "name": "stdout",
          "text": [
            "GEE est prêt à être utilisé !\n"
          ]
        }
      ]
    },
    {
      "cell_type": "markdown",
      "source": [
        "## Débuter votre analyse\n",
        "\n",
        "Définir une zone d’intérêt"
      ],
      "metadata": {
        "id": "jxXhGgq29Wqn"
      }
    },
    {
      "cell_type": "code",
      "source": [
        "# On va utiliser la localisation de Sherbrooke\n",
        "region = ee.Geometry.Point([-71.888351, 45.404476])  # Centre sur Sherbrooke\n",
        "area = region.buffer(10000)  # Crée une zone tampon de 10 km autour du point\n",
        "\n",
        "# Période d'analyse : 2019 à 2023\n",
        "years = ee.List.sequence(2019, 2023)  # Liste des années"
      ],
      "metadata": {
        "colab": {
          "base_uri": "https://localhost:8080/",
          "height": 17
        },
        "id": "Qqslu--r9XW_",
        "outputId": "543991b5-a3ad-4da8-93f2-0bbca3e9349d"
      },
      "execution_count": 3,
      "outputs": [
        {
          "output_type": "display_data",
          "data": {
            "text/plain": [
              "<IPython.core.display.HTML object>"
            ],
            "text/html": [
              "\n",
              "            <style>\n",
              "                .geemap-dark {\n",
              "                    --jp-widgets-color: white;\n",
              "                    --jp-widgets-label-color: white;\n",
              "                    --jp-ui-font-color1: white;\n",
              "                    --jp-layout-color2: #454545;\n",
              "                    background-color: #383838;\n",
              "                }\n",
              "\n",
              "                .geemap-dark .jupyter-button {\n",
              "                    --jp-layout-color3: #383838;\n",
              "                }\n",
              "\n",
              "                .geemap-colab {\n",
              "                    background-color: var(--colab-primary-surface-color, white);\n",
              "                }\n",
              "\n",
              "                .geemap-colab .jupyter-button {\n",
              "                    --jp-layout-color3: var(--colab-primary-surface-color, white);\n",
              "                }\n",
              "            </style>\n",
              "            "
            ]
          },
          "metadata": {}
        }
      ]
    },
    {
      "cell_type": "markdown",
      "source": [
        "Fonction pour calculer le NDVI annuel"
      ],
      "metadata": {
        "id": "O72VEqoq9dzC"
      }
    },
    {
      "cell_type": "code",
      "source": [
        "# Fonction pour calculer le NDVI moyen annuel\n",
        "def calculate_annual_ndvi(year):\n",
        "    start_date = ee.Date.fromYMD(year, 1, 1)\n",
        "    end_date = ee.Date.fromYMD(year, 12, 31)\n",
        "\n",
        "    # Charger Sentinel-2 et filtrer\n",
        "    collection = ee.ImageCollection('COPERNICUS/S2_HARMONIZED') \\\n",
        "                  .filterBounds(area) \\\n",
        "                  .filterDate(start_date, end_date) \\\n",
        "                  .filter(ee.Filter.lt('CLOUDY_PIXEL_PERCENTAGE', 20)) \\\n",
        "                  .median()  # Médiane pour réduire les variations\n",
        "\n",
        "    # Calculer le NDVI\n",
        "    ndvi = collection.normalizedDifference(['B8', 'B4']).rename('NDVI')\n",
        "\n",
        "    # Réduire pour obtenir la moyenne dans la zone\n",
        "    ndvi_mean = ndvi.reduceRegion(\n",
        "        reducer=ee.Reducer.mean(),\n",
        "        geometry=area,\n",
        "        scale=10\n",
        "    ).get('NDVI')\n",
        "\n",
        "    # Retourner l'année et la valeur NDVI\n",
        "    return ee.Feature(None, {'year': year, 'ndvi': ndvi_mean})\n",
        "\n",
        "# Appliquer la fonction à chaque année\n",
        "annual_ndvi = ee.FeatureCollection(years.map(calculate_annual_ndvi))"
      ],
      "metadata": {
        "colab": {
          "base_uri": "https://localhost:8080/",
          "height": 17
        },
        "id": "FLLMe4il9eVr",
        "outputId": "976f7312-02e3-4f41-c06c-5cc6cd52823c"
      },
      "execution_count": 4,
      "outputs": [
        {
          "output_type": "display_data",
          "data": {
            "text/plain": [
              "<IPython.core.display.HTML object>"
            ],
            "text/html": [
              "\n",
              "            <style>\n",
              "                .geemap-dark {\n",
              "                    --jp-widgets-color: white;\n",
              "                    --jp-widgets-label-color: white;\n",
              "                    --jp-ui-font-color1: white;\n",
              "                    --jp-layout-color2: #454545;\n",
              "                    background-color: #383838;\n",
              "                }\n",
              "\n",
              "                .geemap-dark .jupyter-button {\n",
              "                    --jp-layout-color3: #383838;\n",
              "                }\n",
              "\n",
              "                .geemap-colab {\n",
              "                    background-color: var(--colab-primary-surface-color, white);\n",
              "                }\n",
              "\n",
              "                .geemap-colab .jupyter-button {\n",
              "                    --jp-layout-color3: var(--colab-primary-surface-color, white);\n",
              "                }\n",
              "            </style>\n",
              "            "
            ]
          },
          "metadata": {}
        }
      ]
    },
    {
      "cell_type": "markdown",
      "source": [
        "Extraire et visualiser la série temporelle"
      ],
      "metadata": {
        "id": "EczZSAFL9zfl"
      }
    },
    {
      "cell_type": "code",
      "source": [
        "# Convertir les résultats en DataFrame pandas\n",
        "ndvi_data = annual_ndvi.getInfo()['features']\n",
        "df = pd.DataFrame([f['properties'] for f in ndvi_data])\n",
        "\n",
        "# Afficher le tableau\n",
        "print(\"NDVI moyen par année :\")\n",
        "print(df)\n",
        "\n",
        "# Tracer la série temporelle\n",
        "plt.figure(figsize=(10, 6))\n",
        "plt.plot(df['year'], df['ndvi'], marker='o', linestyle='-', color='green')\n",
        "plt.title('Évolution du NDVI moyen (2019-2023)')\n",
        "plt.xlabel('Année')\n",
        "plt.ylabel('NDVI moyen')\n",
        "plt.grid(True)\n",
        "plt.show()"
      ],
      "metadata": {
        "colab": {
          "base_uri": "https://localhost:8080/",
          "height": 694
        },
        "id": "Jaiu7e3190I8",
        "outputId": "e4d9f8db-4307-4da1-b856-91a51361c234"
      },
      "execution_count": 5,
      "outputs": [
        {
          "output_type": "display_data",
          "data": {
            "text/plain": [
              "<IPython.core.display.HTML object>"
            ],
            "text/html": [
              "\n",
              "            <style>\n",
              "                .geemap-dark {\n",
              "                    --jp-widgets-color: white;\n",
              "                    --jp-widgets-label-color: white;\n",
              "                    --jp-ui-font-color1: white;\n",
              "                    --jp-layout-color2: #454545;\n",
              "                    background-color: #383838;\n",
              "                }\n",
              "\n",
              "                .geemap-dark .jupyter-button {\n",
              "                    --jp-layout-color3: #383838;\n",
              "                }\n",
              "\n",
              "                .geemap-colab {\n",
              "                    background-color: var(--colab-primary-surface-color, white);\n",
              "                }\n",
              "\n",
              "                .geemap-colab .jupyter-button {\n",
              "                    --jp-layout-color3: var(--colab-primary-surface-color, white);\n",
              "                }\n",
              "            </style>\n",
              "            "
            ]
          },
          "metadata": {}
        },
        {
          "output_type": "stream",
          "name": "stdout",
          "text": [
            "NDVI moyen par année :\n",
            "       ndvi  year\n",
            "0  0.596297  2019\n",
            "1  0.509144  2020\n",
            "2  0.492568  2021\n",
            "3  0.474547  2022\n",
            "4  0.531103  2023\n"
          ]
        },
        {
          "output_type": "display_data",
          "data": {
            "text/plain": [
              "<Figure size 1000x600 with 1 Axes>"
            ],
            "image/png": "[encoded data removed]"
          },
          "metadata": {}
        }
      ]
    }
  ]
}